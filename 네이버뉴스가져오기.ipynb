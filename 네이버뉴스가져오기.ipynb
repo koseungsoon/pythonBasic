{
 "cells": [
  {
   "cell_type": "code",
   "execution_count": 1,
   "id": "3b9aced2",
   "metadata": {},
   "outputs": [],
   "source": [
    "str1=\"hi\""
   ]
  },
  {
   "cell_type": "code",
   "execution_count": 2,
   "id": "ca3260bd",
   "metadata": {},
   "outputs": [
    {
     "name": "stdout",
     "output_type": "stream",
     "text": [
      "hi\n"
     ]
    }
   ],
   "source": [
    "print(str1)"
   ]
  },
  {
   "cell_type": "code",
   "execution_count": 3,
   "id": "d5400dab",
   "metadata": {},
   "outputs": [
    {
     "data": {
      "text/plain": [
       "str"
      ]
     },
     "execution_count": 3,
     "metadata": {},
     "output_type": "execute_result"
    }
   ],
   "source": [
    "type(str1)"
   ]
  },
  {
   "cell_type": "code",
   "execution_count": 4,
   "id": "1a76248c",
   "metadata": {},
   "outputs": [
    {
     "data": {
      "text/plain": [
       "int"
      ]
     },
     "execution_count": 4,
     "metadata": {},
     "output_type": "execute_result"
    }
   ],
   "source": [
    "num1=5\n",
    "type(num1)"
   ]
  },
  {
   "cell_type": "code",
   "execution_count": null,
   "id": "a8d06cbb",
   "metadata": {},
   "outputs": [],
   "source": []
  },
  {
   "cell_type": "code",
   "execution_count": 5,
   "id": "b60ee314",
   "metadata": {},
   "outputs": [
    {
     "data": {
      "text/plain": [
       "'5'"
      ]
     },
     "execution_count": 5,
     "metadata": {},
     "output_type": "execute_result"
    }
   ],
   "source": [
    "str(num1)"
   ]
  },
  {
   "cell_type": "code",
   "execution_count": 6,
   "id": "3a2fc21e",
   "metadata": {},
   "outputs": [],
   "source": [
    "#배열 numpy.arr\n",
    "#리스트 list"
   ]
  },
  {
   "cell_type": "code",
   "execution_count": 9,
   "id": "aeb63844",
   "metadata": {},
   "outputs": [],
   "source": [
    "li1 = ['안녕',4]"
   ]
  },
  {
   "cell_type": "code",
   "execution_count": 7,
   "id": "a85a58e5",
   "metadata": {},
   "outputs": [],
   "source": [
    "import numpy"
   ]
  },
  {
   "cell_type": "code",
   "execution_count": 8,
   "id": "c267d4ba",
   "metadata": {},
   "outputs": [],
   "source": [
    "import numpy as np"
   ]
  },
  {
   "cell_type": "code",
   "execution_count": 10,
   "id": "bc9d61c0",
   "metadata": {},
   "outputs": [
    {
     "data": {
      "text/plain": [
       "array(['안녕', '4'], dtype='<U11')"
      ]
     },
     "execution_count": 10,
     "metadata": {},
     "output_type": "execute_result"
    }
   ],
   "source": [
    "np.array(li1)"
   ]
  },
  {
   "cell_type": "code",
   "execution_count": 11,
   "id": "38b2e53d",
   "metadata": {},
   "outputs": [
    {
     "data": {
      "text/plain": [
       "list"
      ]
     },
     "execution_count": 11,
     "metadata": {},
     "output_type": "execute_result"
    }
   ],
   "source": [
    "type(li1)"
   ]
  },
  {
   "cell_type": "code",
   "execution_count": 12,
   "id": "aaeb267c",
   "metadata": {},
   "outputs": [],
   "source": [
    "arr1=np.array(li1)"
   ]
  },
  {
   "cell_type": "code",
   "execution_count": 13,
   "id": "edacba81",
   "metadata": {},
   "outputs": [
    {
     "data": {
      "text/plain": [
       "numpy.ndarray"
      ]
     },
     "execution_count": 13,
     "metadata": {},
     "output_type": "execute_result"
    }
   ],
   "source": [
    "type(arr1)"
   ]
  },
  {
   "cell_type": "code",
   "execution_count": 14,
   "id": "9cc6ff50",
   "metadata": {},
   "outputs": [
    {
     "data": {
      "text/plain": [
       "{1, 3}"
      ]
     },
     "execution_count": 14,
     "metadata": {},
     "output_type": "execute_result"
    }
   ],
   "source": [
    "set([1,1,3])"
   ]
  },
  {
   "cell_type": "code",
   "execution_count": 16,
   "id": "a0836f2b",
   "metadata": {},
   "outputs": [],
   "source": [
    "#help(dict)"
   ]
  },
  {
   "cell_type": "code",
   "execution_count": 17,
   "id": "608a0c4a",
   "metadata": {},
   "outputs": [],
   "source": [
    "dict1={'a':'apple'}"
   ]
  },
  {
   "cell_type": "code",
   "execution_count": 18,
   "id": "513083ee",
   "metadata": {},
   "outputs": [
    {
     "data": {
      "text/plain": [
       "dict"
      ]
     },
     "execution_count": 18,
     "metadata": {},
     "output_type": "execute_result"
    }
   ],
   "source": [
    "type(dict1)"
   ]
  },
  {
   "cell_type": "code",
   "execution_count": 19,
   "id": "9333aa30",
   "metadata": {},
   "outputs": [
    {
     "data": {
      "text/plain": [
       "'apple'"
      ]
     },
     "execution_count": 19,
     "metadata": {},
     "output_type": "execute_result"
    }
   ],
   "source": [
    "dict1['a']"
   ]
  },
  {
   "cell_type": "code",
   "execution_count": 21,
   "id": "7eea0eaf",
   "metadata": {},
   "outputs": [],
   "source": [
    "li=[1,\"hi\",True]"
   ]
  },
  {
   "cell_type": "code",
   "execution_count": 22,
   "id": "86a0d401",
   "metadata": {},
   "outputs": [
    {
     "data": {
      "text/plain": [
       "[1, 'hi', True]"
      ]
     },
     "execution_count": 22,
     "metadata": {},
     "output_type": "execute_result"
    }
   ],
   "source": [
    "li"
   ]
  },
  {
   "cell_type": "code",
   "execution_count": 23,
   "id": "a54a7082",
   "metadata": {},
   "outputs": [],
   "source": [
    "#값을 바꾸고 싶지 않을경우 tuple ()"
   ]
  },
  {
   "cell_type": "code",
   "execution_count": 24,
   "id": "da175f44",
   "metadata": {},
   "outputs": [],
   "source": [
    "tu1=(1,\"hi\",True)"
   ]
  },
  {
   "cell_type": "code",
   "execution_count": 25,
   "id": "d8307d93",
   "metadata": {},
   "outputs": [
    {
     "data": {
      "text/plain": [
       "tuple"
      ]
     },
     "execution_count": 25,
     "metadata": {},
     "output_type": "execute_result"
    }
   ],
   "source": [
    "type(tu1)"
   ]
  },
  {
   "cell_type": "code",
   "execution_count": 26,
   "id": "48ff4e12",
   "metadata": {},
   "outputs": [
    {
     "data": {
      "text/plain": [
       "(1, 'hi', True)"
      ]
     },
     "execution_count": 26,
     "metadata": {},
     "output_type": "execute_result"
    }
   ],
   "source": [
    "tu1"
   ]
  },
  {
   "cell_type": "code",
   "execution_count": 27,
   "id": "70bc21b1",
   "metadata": {},
   "outputs": [],
   "source": [
    "tu1=(2,\"hi\",True)"
   ]
  },
  {
   "cell_type": "code",
   "execution_count": 28,
   "id": "30ee9345",
   "metadata": {},
   "outputs": [
    {
     "data": {
      "text/plain": [
       "(2, 'hi', True)"
      ]
     },
     "execution_count": 28,
     "metadata": {},
     "output_type": "execute_result"
    }
   ],
   "source": [
    "tu1"
   ]
  },
  {
   "cell_type": "code",
   "execution_count": 29,
   "id": "2cdd4760",
   "metadata": {},
   "outputs": [],
   "source": [
    "tu1=(2,2,\"hi\",True)"
   ]
  },
  {
   "cell_type": "code",
   "execution_count": 30,
   "id": "f78c9cb7",
   "metadata": {},
   "outputs": [
    {
     "data": {
      "text/plain": [
       "(2, 2, 'hi', True)"
      ]
     },
     "execution_count": 30,
     "metadata": {},
     "output_type": "execute_result"
    }
   ],
   "source": [
    "tu1"
   ]
  },
  {
   "cell_type": "code",
   "execution_count": 31,
   "id": "e91c302a",
   "metadata": {},
   "outputs": [
    {
     "data": {
      "text/plain": [
       "{2, True, 'hi'}"
      ]
     },
     "execution_count": 31,
     "metadata": {},
     "output_type": "execute_result"
    }
   ],
   "source": [
    "set(tu1)"
   ]
  },
  {
   "cell_type": "code",
   "execution_count": null,
   "id": "8e657a6b",
   "metadata": {},
   "outputs": [],
   "source": []
  }
 ],
 "metadata": {
  "kernelspec": {
   "display_name": "Python 3 (ipykernel)",
   "language": "python",
   "name": "python3"
  },
  "language_info": {
   "codemirror_mode": {
    "name": "ipython",
    "version": 3
   },
   "file_extension": ".py",
   "mimetype": "text/x-python",
   "name": "python",
   "nbconvert_exporter": "python",
   "pygments_lexer": "ipython3",
   "version": "3.11.5"
  }
 },
 "nbformat": 4,
 "nbformat_minor": 5
}
