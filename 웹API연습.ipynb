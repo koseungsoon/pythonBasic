{
  "cells": [
    {
      "cell_type": "markdown",
      "metadata": {
        "id": "view-in-github",
        "colab_type": "text"
      },
      "source": [
        "<a href=\"https://colab.research.google.com/github/koseungsoon/pythonBasic/blob/main/%EC%9B%B9API%EC%97%B0%EC%8A%B5.ipynb\" target=\"_parent\"><img src=\"https://colab.research.google.com/assets/colab-badge.svg\" alt=\"Open In Colab\"/></a>"
      ]
    },
    {
      "cell_type": "code",
      "execution_count": null,
      "id": "14a5df09",
      "metadata": {
        "id": "14a5df09"
      },
      "outputs": [],
      "source": [
        "#API 키를 사용하지 않고 데이터 가져오기"
      ]
    },
    {
      "cell_type": "code",
      "execution_count": null,
      "id": "9b490119",
      "metadata": {
        "id": "9b490119"
      },
      "outputs": [],
      "source": [
        "#International Space Station"
      ]
    },
    {
      "cell_type": "code",
      "execution_count": null,
      "id": "fcb50831",
      "metadata": {
        "id": "fcb50831"
      },
      "outputs": [],
      "source": [
        "url='http://api.open-notify.org/iss-now.json'"
      ]
    },
    {
      "cell_type": "code",
      "execution_count": null,
      "id": "692850c9",
      "metadata": {
        "id": "692850c9"
      },
      "outputs": [],
      "source": [
        "import requests"
      ]
    },
    {
      "cell_type": "code",
      "execution_count": null,
      "id": "6d9ed459",
      "metadata": {
        "id": "6d9ed459",
        "outputId": "d3f7bd92-bf06-4c4d-92c2-b1202918fabf"
      },
      "outputs": [
        {
          "data": {
            "text/plain": [
              "<Response [200]>"
            ]
          },
          "execution_count": 7,
          "metadata": {},
          "output_type": "execute_result"
        }
      ],
      "source": [
        "requests.get(url)"
      ]
    },
    {
      "cell_type": "code",
      "execution_count": null,
      "id": "651f5212",
      "metadata": {
        "id": "651f5212",
        "outputId": "b1b9d58a-5027-4450-ca6c-b5698aa257ca"
      },
      "outputs": [
        {
          "data": {
            "text/plain": [
              "'{\"message\": \"success\", \"iss_position\": {\"longitude\": \"12.8839\", \"latitude\": \"51.5664\"}, \"timestamp\": 1715043522}'"
            ]
          },
          "execution_count": 8,
          "metadata": {},
          "output_type": "execute_result"
        }
      ],
      "source": [
        "response_status_code=requests.get(url)\n",
        "response_status_code.text"
      ]
    },
    {
      "cell_type": "code",
      "execution_count": null,
      "id": "7e468a20",
      "metadata": {
        "id": "7e468a20"
      },
      "outputs": [],
      "source": [
        "# 웹에서 가져온 데이터는 대부분 (반정형, xml, json) str(문자열)보다는"
      ]
    },
    {
      "cell_type": "code",
      "execution_count": null,
      "id": "ab3e1643",
      "metadata": {
        "id": "ab3e1643"
      },
      "outputs": [],
      "source": [
        "import json"
      ]
    },
    {
      "cell_type": "code",
      "execution_count": null,
      "id": "cf91c124",
      "metadata": {
        "id": "cf91c124"
      },
      "outputs": [],
      "source": [
        "py_dic=json.loads(response_status_code.text)"
      ]
    },
    {
      "cell_type": "code",
      "execution_count": null,
      "id": "71591f76",
      "metadata": {
        "id": "71591f76",
        "outputId": "7e843c27-3f99-4a10-ac1c-79faa109420e"
      },
      "outputs": [
        {
          "data": {
            "text/plain": [
              "dict"
            ]
          },
          "execution_count": 11,
          "metadata": {},
          "output_type": "execute_result"
        }
      ],
      "source": [
        "type(py_dic)"
      ]
    },
    {
      "cell_type": "code",
      "execution_count": null,
      "id": "ea1b8cd1",
      "metadata": {
        "id": "ea1b8cd1",
        "outputId": "f26b4791-74bf-4fdd-fd26-ac9ae1db62c9"
      },
      "outputs": [
        {
          "data": {
            "text/plain": [
              "{'longitude': '12.8839', 'latitude': '51.5664'}"
            ]
          },
          "execution_count": 12,
          "metadata": {},
          "output_type": "execute_result"
        }
      ],
      "source": [
        "py_dic['iss_position']"
      ]
    },
    {
      "cell_type": "code",
      "execution_count": null,
      "id": "e5b4666a",
      "metadata": {
        "id": "e5b4666a",
        "outputId": "664c2713-de3b-472c-a05c-55e0d76c8c97"
      },
      "outputs": [
        {
          "data": {
            "text/plain": [
              "'12.8839'"
            ]
          },
          "execution_count": 13,
          "metadata": {},
          "output_type": "execute_result"
        }
      ],
      "source": [
        "py_dic['iss_position']['longitude']"
      ]
    },
    {
      "cell_type": "code",
      "execution_count": null,
      "id": "656016f7",
      "metadata": {
        "id": "656016f7"
      },
      "outputs": [],
      "source": [
        "#10초마다 국제우주정거장의 위도, 경도를 가져오는 프로그램을 짜보자."
      ]
    },
    {
      "cell_type": "code",
      "execution_count": null,
      "id": "9e74befb",
      "metadata": {
        "id": "9e74befb"
      },
      "outputs": [],
      "source": [
        "import time\n"
      ]
    },
    {
      "cell_type": "code",
      "execution_count": null,
      "id": "35633adf",
      "metadata": {
        "id": "35633adf",
        "outputId": "61187c50-a06d-470b-f1cc-498b8460aa08"
      },
      "outputs": [
        {
          "name": "stdout",
          "output_type": "stream",
          "text": [
            "12.8839\n"
          ]
        }
      ],
      "source": [
        "print(py_dic['iss_position']['longitude'])\n",
        "time.sleep(10)"
      ]
    },
    {
      "cell_type": "code",
      "execution_count": null,
      "id": "e6082709",
      "metadata": {
        "id": "e6082709",
        "outputId": "6971664f-4bf1-4fbb-dde8-178c10222f8f"
      },
      "outputs": [
        {
          "name": "stdout",
          "output_type": "stream",
          "text": [
            "{'longitude': '69.9689', 'latitude': '29.0969'}\n",
            "{'longitude': '70.4518', 'latitude': '28.6393'}\n"
          ]
        },
        {
          "ename": "KeyboardInterrupt",
          "evalue": "",
          "output_type": "error",
          "traceback": [
            "\u001b[1;31m---------------------------------------------------------------------------\u001b[0m",
            "\u001b[1;31mKeyboardInterrupt\u001b[0m                         Traceback (most recent call last)",
            "Cell \u001b[1;32mIn[22], line 4\u001b[0m\n\u001b[0;32m      2\u001b[0m response_status_code\u001b[38;5;241m=\u001b[39mrequests\u001b[38;5;241m.\u001b[39mget(url)\n\u001b[0;32m      3\u001b[0m py_dic\u001b[38;5;241m=\u001b[39mjson\u001b[38;5;241m.\u001b[39mloads(response_status_code\u001b[38;5;241m.\u001b[39mtext)\n\u001b[1;32m----> 4\u001b[0m time\u001b[38;5;241m.\u001b[39msleep(\u001b[38;5;241m10\u001b[39m)\n\u001b[0;32m      5\u001b[0m \u001b[38;5;28mprint\u001b[39m(py_dic[\u001b[38;5;124m'\u001b[39m\u001b[38;5;124miss_position\u001b[39m\u001b[38;5;124m'\u001b[39m])\n",
            "\u001b[1;31mKeyboardInterrupt\u001b[0m: "
          ]
        }
      ],
      "source": [
        "while True:\n",
        "    response_status_code=requests.get(url)\n",
        "    py_dic=json.loads(response_status_code.text)\n",
        "    time.sleep(10)\n",
        "    print(py_dic['iss_position'])"
      ]
    },
    {
      "cell_type": "code",
      "execution_count": null,
      "id": "f5ade912",
      "metadata": {
        "id": "f5ade912"
      },
      "outputs": [],
      "source": []
    }
  ],
  "metadata": {
    "kernelspec": {
      "display_name": "Python 3 (ipykernel)",
      "language": "python",
      "name": "python3"
    },
    "language_info": {
      "codemirror_mode": {
        "name": "ipython",
        "version": 3
      },
      "file_extension": ".py",
      "mimetype": "text/x-python",
      "name": "python",
      "nbconvert_exporter": "python",
      "pygments_lexer": "ipython3",
      "version": "3.11.5"
    },
    "colab": {
      "provenance": [],
      "include_colab_link": true
    }
  },
  "nbformat": 4,
  "nbformat_minor": 5
}